{
 "cells": [
  {
   "cell_type": "code",
   "execution_count": null,
   "metadata": {},
   "outputs": [],
   "source": [
    "from tools.audio_synthesis import *\n",
    "from tools.transcriber import *\n",
    "from tools.audio_splitter_ffmpeg import *\n",
    "from tools.video_downloader import *\n",
    "\n",
    "multiprocessing.set_start_method('spawn')\n"
   ]
  },
  {
   "cell_type": "code",
   "execution_count": 2,
   "metadata": {},
   "outputs": [],
   "source": [
    "original_audio_file = 'original_audios/C6RvwUsCFfw.wav'\n",
    "original_audio_name = os.path.splitext(os.path.basename(original_audio_file))[0]"
   ]
  },
  {
   "cell_type": "code",
   "execution_count": null,
   "metadata": {},
   "outputs": [],
   "source": [
    "# Transcribe audio\n",
    "segments, detected_language = transcribe(original_audio_file)\n"
   ]
  },
  {
   "cell_type": "code",
   "execution_count": 3,
   "metadata": {},
   "outputs": [],
   "source": [
    "# Split audio file\n",
    "process_full_audio_with_spleeter(original_audio_file)"
   ]
  },
  {
   "cell_type": "code",
   "execution_count": null,
   "metadata": {},
   "outputs": [],
   "source": [
    "# Translate each segment\n",
    "new_segments = []\n",
    "i = 0\n",
    "total_segments = len(segments)\n",
    "for segment in segments:\n",
    "    if len(segment['text']) > 0:\n",
    "        translated_text = translate_deepl(segment['text'], 'es', detected_language)\n",
    "    else:\n",
    "        translated_text = ''\n",
    "    new_segments.append({'id': segment['id'], \n",
    "                         'seek': segment['seek'],\n",
    "                         'start': segment['start'],\n",
    "                         'end': segment['end'],\n",
    "                         'text': translated_text\n",
    "                         })\n",
    "    percentage = (i+1)/total_segments*100\n",
    "    # Print the progress \n",
    "    print(f'Progress: {percentage:.2f}%')\n",
    "    i += 1"
   ]
  },
  {
   "cell_type": "code",
   "execution_count": 5,
   "metadata": {},
   "outputs": [],
   "source": [
    "# save new_segments as a pickle for later loading\n",
    "import pickle\n",
    "\n",
    "with open('new_segments.pkl', 'wb') as f:\n",
    "    pickle.dump(new_segments, f)"
   ]
  },
  {
   "cell_type": "code",
   "execution_count": 3,
   "metadata": {},
   "outputs": [],
   "source": [
    "# Load new_segments from pickle\n",
    "import pickle\n",
    "with open('new_segments.pkl', 'rb') as f:\n",
    "    new_segments = pickle.load(f)"
   ]
  },
  {
   "cell_type": "code",
   "execution_count": null,
   "metadata": {},
   "outputs": [],
   "source": [
    "# Synthesize audio\n",
    "target_lang_code = \"es\"\n",
    "\n",
    "from tools.audio_synthesis import TTSWorker, synthesize_segments_with_workers\n",
    "\n",
    "\n",
    "\n",
    "synthesized_segments_paths = synthesize_segments_with_workers(\n",
    "    segments=new_segments,\n",
    "    speaker_wav_path=f\"output_audio/{original_audio_name}_vocals.wav\",\n",
    "    target_language_code=target_lang_code,\n",
    "    num_workers=3,\n",
    "    device='cuda'\n",
    ")"
   ]
  },
  {
   "cell_type": "code",
   "execution_count": null,
   "metadata": {},
   "outputs": [],
   "source": [
    "# Overlay audio files together\n",
    "overlay_synthesized_speech(\n",
    "    segments=new_segments,\n",
    "    synthesized_segments_paths=synthesized_segments_paths,\n",
    "    background_audio_path=f'output_audio/{original_audio_name}_accompaniment.wav',\n",
    "    output_path=f'final_output/{original_audio_name}-{target_lang_code}.wav'\n",
    ")\n",
    "\n"
   ]
  },
  {
   "cell_type": "code",
   "execution_count": null,
   "metadata": {},
   "outputs": [],
   "source": [
    "for filename in os.listdir('output_audio'):\n",
    "    file_path = os.path.join('output_audio', filename)\n",
    "    if os.path.isfile(file_path):\n",
    "        os.remove(file_path)\n",
    "    "
   ]
  },
  {
   "cell_type": "code",
   "execution_count": null,
   "metadata": {},
   "outputs": [],
   "source": [
    "# Mix old video file and new audio file\n",
    "video_path = f'downloads/{original_audio_name}.mp4'\n",
    "audio_path = f'final_output/{original_audio_name}-{target_lang_code}.wav'\n",
    "video_mixer(video_path, audio_path)"
   ]
  }
 ],
 "metadata": {
  "kernelspec": {
   "display_name": ".venv",
   "language": "python",
   "name": "python3"
  },
  "language_info": {
   "codemirror_mode": {
    "name": "ipython",
    "version": 3
   },
   "file_extension": ".py",
   "mimetype": "text/x-python",
   "name": "python",
   "nbconvert_exporter": "python",
   "pygments_lexer": "ipython3",
   "version": "3.10.12"
  }
 },
 "nbformat": 4,
 "nbformat_minor": 2
}
